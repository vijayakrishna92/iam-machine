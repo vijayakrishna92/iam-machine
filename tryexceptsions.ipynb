{
  "nbformat": 4,
  "nbformat_minor": 0,
  "metadata": {
    "colab": {
      "provenance": [],
      "authorship_tag": "ABX9TyO8zUidHSj8EPere2iBVEMo",
      "include_colab_link": true
    },
    "kernelspec": {
      "name": "python3",
      "display_name": "Python 3"
    },
    "language_info": {
      "name": "python"
    }
  },
  "cells": [
    {
      "cell_type": "markdown",
      "metadata": {
        "id": "view-in-github",
        "colab_type": "text"
      },
      "source": [
        "<a href=\"https://colab.research.google.com/github/vijayakrishna92/machine-learning/blob/main/tryexceptsions.ipynb\" target=\"_parent\"><img src=\"https://colab.research.google.com/assets/colab-badge.svg\" alt=\"Open In Colab\"/></a>"
      ]
    },
    {
      "cell_type": "code",
      "execution_count": 5,
      "metadata": {
        "colab": {
          "base_uri": "https://localhost:8080/"
        },
        "id": "4w0Vw62IQHEB",
        "outputId": "41155cbe-37b5-4cbc-f8e5-d508a86993ef"
      },
      "outputs": [
        {
          "output_type": "stream",
          "name": "stdout",
          "text": [
            "enter num 0\n",
            "0\n",
            "cant divide by zero\n"
          ]
        }
      ],
      "source": [
        "try :\n",
        "  a = int(input('enter num '))\n",
        "  print(a)\n",
        "  income = 2000\n",
        "  risk = income/a\n",
        "except ZeroDivisionError:\n",
        "  print('cant divide by zero')\n",
        "except ValueError:\n",
        "  print('enter number')\n"
      ]
    }
  ]
}