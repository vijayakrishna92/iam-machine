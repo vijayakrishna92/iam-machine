{
  "nbformat": 4,
  "nbformat_minor": 0,
  "metadata": {
    "colab": {
      "provenance": [],
      "authorship_tag": "ABX9TyMWszuqCEsDV8KWPwCcuq8t",
      "include_colab_link": true
    },
    "kernelspec": {
      "name": "python3",
      "display_name": "Python 3"
    },
    "language_info": {
      "name": "python"
    }
  },
  "cells": [
    {
      "cell_type": "markdown",
      "metadata": {
        "id": "view-in-github",
        "colab_type": "text"
      },
      "source": [
        "<a href=\"https://colab.research.google.com/github/vijayakrishna92/machine-learning/blob/main/emoji_conv.ipynb\" target=\"_parent\"><img src=\"https://colab.research.google.com/assets/colab-badge.svg\" alt=\"Open In Colab\"/></a>"
      ]
    },
    {
      "cell_type": "code",
      "source": [
        "def emoji_converter(a):\n",
        "  output = ''\n",
        "  e = {':)':'🙂', ':(':'🙁'}\n",
        "  for i in a:\n",
        "    output += e.get(i ,i) +' '\n",
        "\n",
        "\n",
        "  return output\n",
        "\n",
        "\n",
        "\n",
        "b = input('enter text ')\n",
        "c = b.split(' ')\n",
        "d = emoji_converter(c)\n",
        "print(d)"
      ],
      "metadata": {
        "colab": {
          "base_uri": "https://localhost:8080/"
        },
        "id": "aWrxu4623MLm",
        "outputId": "ce3b8c85-81d1-4e6d-b794-f4174226abc1"
      },
      "execution_count": 1,
      "outputs": [
        {
          "output_type": "stream",
          "name": "stdout",
          "text": [
            "enter text hi :)\n",
            "hi 🙂 \n"
          ]
        }
      ]
    }
  ]
}