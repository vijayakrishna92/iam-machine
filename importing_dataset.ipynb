{
  "nbformat": 4,
  "nbformat_minor": 0,
  "metadata": {
    "colab": {
      "provenance": []
    },
    "kernelspec": {
      "name": "python3",
      "display_name": "Python 3"
    },
    "language_info": {
      "name": "python"
    }
  },
  "cells": [
    {
      "cell_type": "markdown",
      "source": [
        "## importing libraries"
      ],
      "metadata": {
        "id": "n6TAkKYUiqMv"
      }
    },
    {
      "cell_type": "code",
      "source": [
        "import pandas as pd # read dadtaset and creates matrix of features and dependent variable vector\n"
      ],
      "metadata": {
        "id": "4CzaW_Wei1dm"
      },
      "execution_count": 1,
      "outputs": []
    },
    {
      "cell_type": "markdown",
      "source": [
        "## importing dataset"
      ],
      "metadata": {
        "id": "7zE1em6OlHnr"
      }
    },
    {
      "cell_type": "code",
      "source": [
        "var_dataset = pd.read_csv('datas.csv') # will read data from given .csv file"
      ],
      "metadata": {
        "id": "cMDg1MYflQNS"
      },
      "execution_count": 3,
      "outputs": []
    }
  ]
}