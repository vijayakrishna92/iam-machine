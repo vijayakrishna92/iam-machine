{
  "nbformat": 4,
  "nbformat_minor": 0,
  "metadata": {
    "colab": {
      "provenance": [],
      "authorship_tag": "ABX9TyP0vsZkcS4puRS9LJm4iz77",
      "include_colab_link": true
    },
    "kernelspec": {
      "name": "python3",
      "display_name": "Python 3"
    },
    "language_info": {
      "name": "python"
    }
  },
  "cells": [
    {
      "cell_type": "markdown",
      "metadata": {
        "id": "view-in-github",
        "colab_type": "text"
      },
      "source": [
        "<a href=\"https://colab.research.google.com/github/vijayakrishna92/machine-learning/blob/main/classesw.ipynb\" target=\"_parent\"><img src=\"https://colab.research.google.com/assets/colab-badge.svg\" alt=\"Open In Colab\"/></a>"
      ]
    },
    {
      "cell_type": "code",
      "execution_count": 6,
      "metadata": {
        "colab": {
          "base_uri": "https://localhost:8080/"
        },
        "id": "64Bzk_rzVlWn",
        "outputId": "00ee6b10-269c-4793-e955-e10b73ac2988"
      },
      "outputs": [
        {
          "output_type": "stream",
          "name": "stdout",
          "text": [
            "red\n",
            "10\n",
            "20\n"
          ]
        }
      ],
      "source": [
        "class Colours:\n",
        "  def reda(Self):\n",
        "    print('red')\n",
        "  def bluea(self):\n",
        "    print('blue')\n",
        "\n",
        "c = Colours()\n",
        "c.reda()\n",
        "c.x = 10\n",
        "print(c.x)\n",
        "c2= Colours()\n",
        "c2.x = 20\n",
        "print(c2.x)"
      ]
    }
  ]
}