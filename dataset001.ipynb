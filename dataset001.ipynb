{
  "nbformat": 4,
  "nbformat_minor": 0,
  "metadata": {
    "colab": {
      "provenance": [],
      "authorship_tag": "ABX9TyMprFGnwTjfIOjoW7VsrkJI",
      "include_colab_link": true
    },
    "kernelspec": {
      "name": "python3",
      "display_name": "Python 3"
    },
    "language_info": {
      "name": "python"
    }
  },
  "cells": [
    {
      "cell_type": "markdown",
      "metadata": {
        "id": "view-in-github",
        "colab_type": "text"
      },
      "source": [
        "<a href=\"https://colab.research.google.com/github/vijayakrishna92/machine-learning/blob/main/dataset001.ipynb\" target=\"_parent\"><img src=\"https://colab.research.google.com/assets/colab-badge.svg\" alt=\"Open In Colab\"/></a>"
      ]
    },
    {
      "cell_type": "markdown",
      "source": [
        "##Import libraries"
      ],
      "metadata": {
        "id": "ukamkQVhC1iw"
      }
    },
    {
      "cell_type": "code",
      "source": [
        "import pandas as pd\n",
        "import numpy as np\n",
        "from sklearn.impute import SimpleImputer"
      ],
      "metadata": {
        "id": "vYwJ66gjC63h"
      },
      "execution_count": 51,
      "outputs": []
    },
    {
      "cell_type": "markdown",
      "source": [
        "## import dataset"
      ],
      "metadata": {
        "id": "CmLii4eDC_B5"
      }
    },
    {
      "cell_type": "code",
      "source": [
        "var = pd.read_csv('datas.csv')\n",
        "x = var.iloc[:,:-1].values # reading all rows and first 3 column datas\n",
        "print(x) # iloc and values are from pandas\n",
        "y =var.iloc[:,-1].values # reading all rows and last column datas\n",
        "print(y)"
      ],
      "metadata": {
        "colab": {
          "base_uri": "https://localhost:8080/"
        },
        "id": "s3tm5Rj4DDEN",
        "outputId": "9c6a1c98-814b-4f18-c281-6c1e34079b20"
      },
      "execution_count": 52,
      "outputs": [
        {
          "output_type": "stream",
          "name": "stdout",
          "text": [
            "[['aaaa' 30.0 10000.0]\n",
            " ['bbbb' 35.0 15000.0]\n",
            " ['cccc' 40.0 20000.0]\n",
            " ['dddd' 45.0 25000.0]\n",
            " ['eeee' nan 30000.0]\n",
            " ['ffff' 55.0 35000.0]\n",
            " ['gggg' 60.0 40000.0]\n",
            " ['hhhh' 65.0 nan]\n",
            " ['iiii' 70.0 50000.0]\n",
            " ['jjjj' 75.0 55000.0]]\n",
            "['yes' 'no' 'no' 'yes' 'no' 'yes' 'no' 'no' 'yes' 'no']\n"
          ]
        }
      ]
    },
    {
      "cell_type": "code",
      "source": [
        "m_val = SimpleImputer(missing_values=np.nan, strategy='mean')\n",
        "m_val.fit(x[:,1:3])\n",
        "x[:,1:3] = m_val.transform(x[:,1:3])\n",
        "print(x)"
      ],
      "metadata": {
        "id": "teH8_lyhNLED",
        "colab": {
          "base_uri": "https://localhost:8080/"
        },
        "outputId": "6e803f1b-da78-4025-b97d-d0b0e00bac6f"
      },
      "execution_count": 53,
      "outputs": [
        {
          "output_type": "stream",
          "name": "stdout",
          "text": [
            "[['aaaa' 30.0 10000.0]\n",
            " ['bbbb' 35.0 15000.0]\n",
            " ['cccc' 40.0 20000.0]\n",
            " ['dddd' 45.0 25000.0]\n",
            " ['eeee' 52.77777777777778 30000.0]\n",
            " ['ffff' 55.0 35000.0]\n",
            " ['gggg' 60.0 40000.0]\n",
            " ['hhhh' 65.0 31111.11111111111]\n",
            " ['iiii' 70.0 50000.0]\n",
            " ['jjjj' 75.0 55000.0]]\n"
          ]
        }
      ]
    },
    {
      "cell_type": "markdown",
      "source": [
        "## encoding"
      ],
      "metadata": {
        "id": "EUBNWqaYhIS5"
      }
    },
    {
      "cell_type": "code",
      "source": [
        "from sklearn.compose import ColumnTransformer\n",
        "from sklearn.preprocessing import OneHotEncoder\n",
        "ct = ColumnTransformer(transformers=[('encoder',OneHotEncoder(),[0])],remainder='passthrough')\n",
        "x = np.array(ct.fit_transform(x))"
      ],
      "metadata": {
        "id": "SbwgjJQthMAy"
      },
      "execution_count": 54,
      "outputs": []
    },
    {
      "cell_type": "code",
      "source": [
        "print(x)"
      ],
      "metadata": {
        "colab": {
          "base_uri": "https://localhost:8080/"
        },
        "id": "uuG0S0zYnXpT",
        "outputId": "8cf54a89-f6cb-49bd-abe0-5264b4dc2dad"
      },
      "execution_count": 55,
      "outputs": [
        {
          "output_type": "stream",
          "name": "stdout",
          "text": [
            "  (0, 0)\t1.0\n",
            "  (0, 10)\t30.0\n",
            "  (0, 11)\t10000.0\n",
            "  (1, 1)\t1.0\n",
            "  (1, 10)\t35.0\n",
            "  (1, 11)\t15000.0\n",
            "  (2, 2)\t1.0\n",
            "  (2, 10)\t40.0\n",
            "  (2, 11)\t20000.0\n",
            "  (3, 3)\t1.0\n",
            "  (3, 10)\t45.0\n",
            "  (3, 11)\t25000.0\n",
            "  (4, 4)\t1.0\n",
            "  (4, 10)\t52.77777777777778\n",
            "  (4, 11)\t30000.0\n",
            "  (5, 5)\t1.0\n",
            "  (5, 10)\t55.0\n",
            "  (5, 11)\t35000.0\n",
            "  (6, 6)\t1.0\n",
            "  (6, 10)\t60.0\n",
            "  (6, 11)\t40000.0\n",
            "  (7, 7)\t1.0\n",
            "  (7, 10)\t65.0\n",
            "  (7, 11)\t31111.11111111111\n",
            "  (8, 8)\t1.0\n",
            "  (8, 10)\t70.0\n",
            "  (8, 11)\t50000.0\n",
            "  (9, 9)\t1.0\n",
            "  (9, 10)\t75.0\n",
            "  (9, 11)\t55000.0\n"
          ]
        }
      ]
    }
  ]
}