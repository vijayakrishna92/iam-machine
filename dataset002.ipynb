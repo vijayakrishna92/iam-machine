{
  "nbformat": 4,
  "nbformat_minor": 0,
  "metadata": {
    "colab": {
      "provenance": [],
      "toc_visible": true,
      "authorship_tag": "ABX9TyPfKynhevGF/iuGKGWpGDxT",
      "include_colab_link": true
    },
    "kernelspec": {
      "name": "python3",
      "display_name": "Python 3"
    },
    "language_info": {
      "name": "python"
    }
  },
  "cells": [
    {
      "cell_type": "markdown",
      "metadata": {
        "id": "view-in-github",
        "colab_type": "text"
      },
      "source": [
        "<a href=\"https://colab.research.google.com/github/vijayakrishna92/machine-learning/blob/main/dataset002.ipynb\" target=\"_parent\"><img src=\"https://colab.research.google.com/assets/colab-badge.svg\" alt=\"Open In Colab\"/></a>"
      ]
    },
    {
      "cell_type": "markdown",
      "source": [
        "##Import libraries"
      ],
      "metadata": {
        "id": "ukamkQVhC1iw"
      }
    },
    {
      "cell_type": "code",
      "source": [
        "import pandas as pd\n",
        "import numpy as np\n",
        "from sklearn.impute import SimpleImputer"
      ],
      "metadata": {
        "id": "vYwJ66gjC63h"
      },
      "execution_count": 1,
      "outputs": []
    },
    {
      "cell_type": "markdown",
      "source": [
        "## import dataset"
      ],
      "metadata": {
        "id": "CmLii4eDC_B5"
      }
    },
    {
      "cell_type": "code",
      "source": [
        "var = pd.read_csv('Data.csv')\n",
        "X = var.iloc[:,:-1].values # reading all rows and first 3 column datas\n",
        "#print(X) # iloc and values are from pandas\n",
        "y =var.iloc[:,-1].values # reading all rows and last column datas\n",
        "#print(y)"
      ],
      "metadata": {
        "id": "s3tm5Rj4DDEN"
      },
      "execution_count": 2,
      "outputs": []
    },
    {
      "cell_type": "code",
      "source": [
        "m_val = SimpleImputer(missing_values=np.nan, strategy='mean')\n",
        "m_val.fit(X[:,1:3])\n",
        "X[:,1:3] = m_val.transform(X[:,1:3])\n",
        "#print(X)"
      ],
      "metadata": {
        "id": "teH8_lyhNLED"
      },
      "execution_count": 3,
      "outputs": []
    },
    {
      "cell_type": "markdown",
      "source": [
        "## encoding"
      ],
      "metadata": {
        "id": "EUBNWqaYhIS5"
      }
    },
    {
      "cell_type": "code",
      "source": [
        "from sklearn.compose import ColumnTransformer\n",
        "from sklearn.preprocessing import OneHotEncoder\n",
        "ct = ColumnTransformer(transformers=[('encoder', OneHotEncoder(), [0])], remainder='passthrough')\n",
        "X = np.array(ct.fit_transform(X))"
      ],
      "metadata": {
        "id": "SbwgjJQthMAy"
      },
      "execution_count": 4,
      "outputs": []
    },
    {
      "cell_type": "code",
      "source": [
        "print(X)"
      ],
      "metadata": {
        "colab": {
          "base_uri": "https://localhost:8080/"
        },
        "id": "uuG0S0zYnXpT",
        "outputId": "e549da87-4613-4b9d-b805-42170b3e6777"
      },
      "execution_count": 5,
      "outputs": [
        {
          "output_type": "stream",
          "name": "stdout",
          "text": [
            "[[0.0 0.0 1.0 0.0 0.0 0.0 0.0 0.0 44.0 72000.0]\n",
            " [0.0 1.0 0.0 0.0 0.0 0.0 0.0 0.0 27.0 48000.0]\n",
            " [0.0 0.0 0.0 0.0 0.0 0.0 0.0 1.0 30.0 54000.0]\n",
            " [0.0 0.0 0.0 0.0 0.0 0.0 1.0 0.0 38.0 61000.0]\n",
            " [1.0 0.0 0.0 0.0 0.0 0.0 0.0 0.0 40.0 63777.77777777778]\n",
            " [0.0 0.0 0.0 1.0 0.0 0.0 0.0 0.0 35.0 58000.0]\n",
            " [0.0 0.0 0.0 0.0 0.0 1.0 0.0 0.0 38.77777777777778 52000.0]\n",
            " [0.0 0.0 0.0 0.0 1.0 0.0 0.0 0.0 48.0 79000.0]\n",
            " [0.0 0.0 1.0 0.0 0.0 0.0 0.0 0.0 50.0 83000.0]\n",
            " [0.0 1.0 0.0 0.0 0.0 0.0 0.0 0.0 37.0 67000.0]]\n"
          ]
        }
      ]
    },
    {
      "cell_type": "code",
      "source": [
        "from sklearn.preprocessing import LabelEncoder\n",
        "le = LabelEncoder()\n",
        "y = le.fit_transform(y)\n",
        "print(y)"
      ],
      "metadata": {
        "colab": {
          "base_uri": "https://localhost:8080/"
        },
        "id": "-OrSRQy-zR5F",
        "outputId": "4110453f-64cc-4823-dfda-c0ef802ba9b4"
      },
      "execution_count": 6,
      "outputs": [
        {
          "output_type": "stream",
          "name": "stdout",
          "text": [
            "[0 1 0 0 1 1 0 1 0 1]\n"
          ]
        }
      ]
    },
    {
      "cell_type": "markdown",
      "source": [
        "##splitting dataset into training set and test set"
      ],
      "metadata": {
        "id": "6mPCK-AOusJk"
      }
    },
    {
      "cell_type": "code",
      "source": [
        "from sklearn.model_selection import train_test_split\n",
        "X_train, X_test, y_train, y_test = train_test_split(X, y, test_size = 0.2, random_state= 1)"
      ],
      "metadata": {
        "id": "mCwXVNpqu1HU"
      },
      "execution_count": 7,
      "outputs": []
    },
    {
      "cell_type": "code",
      "source": [
        "print(X_train)"
      ],
      "metadata": {
        "colab": {
          "base_uri": "https://localhost:8080/"
        },
        "id": "XS6qY-ekv9gN",
        "outputId": "5c51897c-6d94-460b-c8ab-bf305191b4ef"
      },
      "execution_count": 8,
      "outputs": [
        {
          "output_type": "stream",
          "name": "stdout",
          "text": [
            "[[0.0 0.0 0.0 0.0 0.0 1.0 0.0 0.0 38.77777777777778 52000.0]\n",
            " [1.0 0.0 0.0 0.0 0.0 0.0 0.0 0.0 40.0 63777.77777777778]\n",
            " [0.0 0.0 1.0 0.0 0.0 0.0 0.0 0.0 44.0 72000.0]\n",
            " [0.0 0.0 0.0 0.0 0.0 0.0 1.0 0.0 38.0 61000.0]\n",
            " [0.0 1.0 0.0 0.0 0.0 0.0 0.0 0.0 27.0 48000.0]\n",
            " [0.0 0.0 0.0 0.0 1.0 0.0 0.0 0.0 48.0 79000.0]\n",
            " [0.0 0.0 1.0 0.0 0.0 0.0 0.0 0.0 50.0 83000.0]\n",
            " [0.0 0.0 0.0 1.0 0.0 0.0 0.0 0.0 35.0 58000.0]]\n"
          ]
        }
      ]
    },
    {
      "cell_type": "code",
      "source": [
        "print(X_test)"
      ],
      "metadata": {
        "colab": {
          "base_uri": "https://localhost:8080/"
        },
        "id": "vbDIVTARwCGm",
        "outputId": "137ec501-a4d5-4607-9119-0bc3504f5f09"
      },
      "execution_count": 9,
      "outputs": [
        {
          "output_type": "stream",
          "name": "stdout",
          "text": [
            "[[0.0 0.0 0.0 0.0 0.0 0.0 0.0 1.0 30.0 54000.0]\n",
            " [0.0 1.0 0.0 0.0 0.0 0.0 0.0 0.0 37.0 67000.0]]\n"
          ]
        }
      ]
    },
    {
      "cell_type": "code",
      "source": [
        "print(y_train)"
      ],
      "metadata": {
        "colab": {
          "base_uri": "https://localhost:8080/"
        },
        "id": "oZ0bQtYvwCcz",
        "outputId": "f7bbf125-26e8-4ed2-e186-b57a265ee552"
      },
      "execution_count": 10,
      "outputs": [
        {
          "output_type": "stream",
          "name": "stdout",
          "text": [
            "[0 1 0 0 1 1 0 1]\n"
          ]
        }
      ]
    },
    {
      "cell_type": "code",
      "source": [
        "print(y_test)"
      ],
      "metadata": {
        "colab": {
          "base_uri": "https://localhost:8080/"
        },
        "id": "bEjuKhZtwCor",
        "outputId": "3b6e6910-9287-48ce-cf0c-b33f44cc95c9"
      },
      "execution_count": 11,
      "outputs": [
        {
          "output_type": "stream",
          "name": "stdout",
          "text": [
            "[0 1]\n"
          ]
        }
      ]
    },
    {
      "cell_type": "markdown",
      "source": [
        "## Feature scaling"
      ],
      "metadata": {
        "id": "CIwRIANfB0OI"
      }
    },
    {
      "cell_type": "code",
      "source": [
        "from sklearn.preprocessing import StandardScaler\n",
        "sc = StandardScaler()\n",
        "X_train[:,8:] = sc.fit_transform(X_train[:,8:])\n",
        "X_test[:,8:] = sc.transform(X_test[:,8:])"
      ],
      "metadata": {
        "id": "5DCbX4iSB4i7"
      },
      "execution_count": 13,
      "outputs": []
    },
    {
      "cell_type": "code",
      "source": [
        "print(X_train)"
      ],
      "metadata": {
        "colab": {
          "base_uri": "https://localhost:8080/"
        },
        "id": "XLwFwriEC6mu",
        "outputId": "5da7d490-4a79-461f-9e05-e9cc5ba790ce"
      },
      "execution_count": 14,
      "outputs": [
        {
          "output_type": "stream",
          "name": "stdout",
          "text": [
            "[[0.0 0.0 0.0 0.0 0.0 1.0 0.0 0.0 -0.19159184384578545\n",
            "  -1.0781259408412425]\n",
            " [1.0 0.0 0.0 0.0 0.0 0.0 0.0 0.0 -0.014117293757057777\n",
            "  -0.07013167641635372]\n",
            " [0.0 0.0 1.0 0.0 0.0 0.0 0.0 0.0 0.566708506533324 0.633562432710455]\n",
            " [0.0 0.0 0.0 0.0 0.0 0.0 1.0 0.0 -0.30453019390224867\n",
            "  -0.30786617274297867]\n",
            " [0.0 1.0 0.0 0.0 0.0 0.0 0.0 0.0 -1.9018011447007988 -1.420463615551582]\n",
            " [0.0 0.0 0.0 0.0 1.0 0.0 0.0 0.0 1.1475343068237058 1.232653363453549]\n",
            " [0.0 0.0 1.0 0.0 0.0 0.0 0.0 0.0 1.4379472069688968 1.5749910381638885]\n",
            " [0.0 0.0 0.0 1.0 0.0 0.0 0.0 0.0 -0.7401495441200351 -0.5646194287757332]]\n"
          ]
        }
      ]
    },
    {
      "cell_type": "code",
      "source": [
        "print(X_test)"
      ],
      "metadata": {
        "colab": {
          "base_uri": "https://localhost:8080/"
        },
        "id": "3Z4ec_zHDNMw",
        "outputId": "b4853bb6-6d15-4108-8954-f7c54d4ad87c"
      },
      "execution_count": 15,
      "outputs": [
        {
          "output_type": "stream",
          "name": "stdout",
          "text": [
            "[[0.0 0.0 0.0 0.0 0.0 0.0 0.0 1.0 -1.4661817944830124 -0.9069571034860727]\n",
            " [0.0 1.0 0.0 0.0 0.0 0.0 0.0 0.0 -0.44973664397484414 0.2056403393225306]]\n"
          ]
        }
      ]
    }
  ]
}